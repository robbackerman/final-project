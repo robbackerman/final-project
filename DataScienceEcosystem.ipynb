{
 "cells": [
  {
   "cell_type": "markdown",
   "id": "e97270a1-4ecb-4b10-ae13-54e011db718f",
   "metadata": {},
   "source": [
    "# Data Science Tools and Ecosystem"
   ]
  },
  {
   "cell_type": "markdown",
   "id": "1f0ec243-fb2f-4dd0-88bb-452ff5919fac",
   "metadata": {},
   "source": [
    "In this notebook, Data Science Tools and Ecosystem are summarized."
   ]
  },
  {
   "cell_type": "markdown",
   "id": "cffe170a-eca7-44dc-abf4-7c0d1a11cd9c",
   "metadata": {},
   "source": [
    "**Objectives:**\n",
    "- Create a markdown cell to list data science libraries\n",
    "- Create a markdown cell to list programming languages used in data science\n",
    "- Create a markdown cell with a table of data science tools\n"
   ]
  },
  {
   "cell_type": "markdown",
   "id": "92f55c5a-911b-4958-b73d-6a6c356da1cd",
   "metadata": {},
   "source": [
    "Some of the popular languages that Data Scientists use are:\n",
    "1. Java\n",
    "2. Python\n",
    "3. C++"
   ]
  },
  {
   "cell_type": "markdown",
   "id": "3be8969c-c849-4cea-9e78-51410f2312e5",
   "metadata": {},
   "source": [
    "Some of the commonly used libraries used by Data Scientists include:\n",
    "\n",
    "1. Matplotlib\n",
    "2. Pandas\n",
    "3. SciPy"
   ]
  },
  {
   "cell_type": "markdown",
   "id": "28bf7ebb-85b8-4b05-8aa5-9b8d4fc285de",
   "metadata": {},
   "source": [
    "| Data Science Tools | \n",
    "| ------------------ | \n",
    "| Hadoop | \n",
    "| Apache Spark |\n",
    "| Jupyter Notebooks | \n"
   ]
  },
  {
   "cell_type": "markdown",
   "id": "cb406aee-1e96-48b5-910b-994395ae34a4",
   "metadata": {},
   "source": [
    "### Below are a few examples of evaluating arithmetic expressions in Python"
   ]
  },
  {
   "cell_type": "code",
   "execution_count": 1,
   "id": "51e71670-2f98-4193-8396-01f36cffd8c5",
   "metadata": {
    "tags": []
   },
   "outputs": [
    {
     "data": {
      "text/plain": [
       "17"
      ]
     },
     "execution_count": 1,
     "metadata": {},
     "output_type": "execute_result"
    }
   ],
   "source": [
    "# This a simple arithmetic expression to mutiply then add integers\n",
    "(3*4)+5"
   ]
  },
  {
   "cell_type": "code",
   "execution_count": 2,
   "id": "bb8832cd-c3b1-4767-9347-00160c351940",
   "metadata": {
    "tags": []
   },
   "outputs": [
    {
     "data": {
      "text/plain": [
       "33.333333333333336"
      ]
     },
     "execution_count": 2,
     "metadata": {},
     "output_type": "execute_result"
    }
   ],
   "source": [
    "# This will convert 200 minutes to hours by diving by 60\n",
    "200/6"
   ]
  },
  {
   "cell_type": "markdown",
   "id": "fc276e14-a0f7-4641-adad-22596b531e96",
   "metadata": {},
   "source": [
    "## Author\n",
    "Robby Ackerman"
   ]
  },
  {
   "cell_type": "code",
   "execution_count": null,
   "id": "82e371a5-0b8d-450c-9938-b17bfdacc813",
   "metadata": {},
   "outputs": [],
   "source": []
  }
 ],
 "metadata": {
  "kernelspec": {
   "display_name": "Python",
   "language": "python",
   "name": "conda-env-python-py"
  },
  "language_info": {
   "codemirror_mode": {
    "name": "ipython",
    "version": 3
   },
   "file_extension": ".py",
   "mimetype": "text/x-python",
   "name": "python",
   "nbconvert_exporter": "python",
   "pygments_lexer": "ipython3",
   "version": "3.7.12"
  }
 },
 "nbformat": 4,
 "nbformat_minor": 5
}
